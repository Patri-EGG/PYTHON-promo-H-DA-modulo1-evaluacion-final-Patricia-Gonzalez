{
 "cells": [
  {
   "cell_type": "markdown",
   "metadata": {},
   "source": [
    "ssssssssss FFFFFFAAAAA"
   ]
  },
  {
   "cell_type": "markdown",
   "metadata": {},
   "source": []
  }
 ],
 "metadata": {
  "language_info": {
   "name": "python"
  }
 },
 "nbformat": 4,
 "nbformat_minor": 2
}
